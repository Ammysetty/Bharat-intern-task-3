{
 "cells": [
  {
   "cell_type": "code",
   "execution_count": 1,
   "metadata": {
    "colab": {
     "base_uri": "https://localhost:8080/"
    },
    "id": "dsBYdptqM9DP",
    "outputId": "33cb5e23-8784-456b-86af-7dc8aaaed2b6"
   },
   "outputs": [
    {
     "name": "stdout",
     "output_type": "stream",
     "text": [
      "Downloading data from https://storage.googleapis.com/tensorflow/tf-keras-datasets/mnist.npz\n",
      "11490434/11490434 [==============================] - 2s 0us/step\n"
     ]
    }
   ],
   "source": [
    "#Downloading the MNIST Dataset\n",
    "import tensorflow as tf\n",
    "(x_train, y_train), (x_test, y_test) = tf.keras.datasets.mnist.load_data()"
   ]
  },
  {
   "cell_type": "code",
   "execution_count": 2,
   "metadata": {
    "colab": {
     "base_uri": "https://localhost:8080/",
     "height": 300
    },
    "id": "ElmEAZJ5QLAP",
    "outputId": "38a5cc09-29fd-4c24-8224-b2dad4881b26"
   },
   "outputs": [
    {
     "name": "stdout",
     "output_type": "stream",
     "text": [
      "5\n"
     ]
    },
    {
     "data": {
      "text/plain": [
       "<matplotlib.image.AxesImage at 0x185eb98b6d0>"
      ]
     },
     "execution_count": 2,
     "metadata": {},
     "output_type": "execute_result"
    },
    {
     "data": {
      "image/png": "[encoded data removed]",
      "text/plain": [
       "<Figure size 640x480 with 1 Axes>"
      ]
     },
     "metadata": {},
     "output_type": "display_data"
    }
   ],
   "source": [
    "import matplotlib.pyplot as plt\n",
    "image_index = 1111 # You may select anything up to 60,000\n",
    "print(y_train[image_index]) # The label is 8\n",
    "plt.imshow(x_train[image_index], cmap='Greys')"
   ]
  },
  {
   "cell_type": "code",
   "execution_count": 3,
   "metadata": {
    "colab": {
     "base_uri": "https://localhost:8080/"
    },
    "id": "aZItbA3FQNGW",
    "outputId": "749eefa1-d4f4-4b71-e0c1-eeeb9334ce81"
   },
   "outputs": [
    {
     "data": {
      "text/plain": [
       "(60000, 28, 28)"
      ]
     },
     "execution_count": 3,
     "metadata": {},
     "output_type": "execute_result"
    }
   ],
   "source": [
    "x_train.shape"
   ]
  },
  {
   "cell_type": "code",
   "execution_count": 4,
   "metadata": {
    "colab": {
     "base_uri": "https://localhost:8080/"
    },
    "id": "4Tn7qHzJQO39",
    "outputId": "fd075938-04d4-46ab-8b57-33370fe85e8e"
   },
   "outputs": [
    {
     "name": "stdout",
     "output_type": "stream",
     "text": [
      "x_train shape: (60000, 784)\n",
      "Number of images in x_train 60000\n",
      "Number of images in x_test 10000\n"
     ]
    }
   ],
   "source": [
    "# Reshaping the array to 4-dims so that it can work with the Keras API\n",
    "x_train = x_train.reshape(x_train.shape[0], 28*28)\n",
    "x_test = x_test.reshape(x_test.shape[0], 28*28)\n",
    "input_shape = 28*28\n",
    "# Making sure that the values are float so that we can get decimal points after division\n",
    "x_train = x_train.astype('float32')\n",
    "x_test = x_test.astype('float32')\n",
    "# Normalizing the RGB codes by dividing it to the max RGB value.\n",
    "x_train /= 255\n",
    "x_test /= 255\n",
    "print('x_train shape:', x_train.shape)\n",
    "print('Number of images in x_train', x_train.shape[0])\n",
    "print('Number of images in x_test', x_test.shape[0])"
   ]
  },
  {
   "cell_type": "code",
   "execution_count": 5,
   "metadata": {
    "id": "sHpffiPlD4EC"
   },
   "outputs": [],
   "source": [
    "from keras import Sequential\n",
    "from keras.layers import Dense"
   ]
  },
  {
   "cell_type": "code",
   "execution_count": 6,
   "metadata": {
    "colab": {
     "base_uri": "https://localhost:8080/"
    },
    "id": "y5vui5O7D6Cp",
    "outputId": "7751744d-9da9-4076-b067-7dc3b9fa805c"
   },
   "outputs": [
    {
     "name": "stdout",
     "output_type": "stream",
     "text": [
      "Epoch 1/20\n",
      "1875/1875 [==============================] - 27s 14ms/step - loss: 0.1813 - accuracy: 0.9449\n",
      "Epoch 2/20\n",
      "1875/1875 [==============================] - 29s 16ms/step - loss: 0.0778 - accuracy: 0.9748\n",
      "Epoch 3/20\n",
      "1875/1875 [==============================] - 29s 15ms/step - loss: 0.0529 - accuracy: 0.9833\n",
      "Epoch 4/20\n",
      "1875/1875 [==============================] - 29s 16ms/step - loss: 0.0404 - accuracy: 0.9874\n",
      "Epoch 5/20\n",
      "1875/1875 [==============================] - 30s 16ms/step - loss: 0.0321 - accuracy: 0.9899\n",
      "Epoch 6/20\n",
      "1875/1875 [==============================] - 31s 16ms/step - loss: 0.0272 - accuracy: 0.9911\n",
      "Epoch 7/20\n",
      "1875/1875 [==============================] - 31s 16ms/step - loss: 0.0221 - accuracy: 0.9924\n",
      "Epoch 8/20\n",
      "1875/1875 [==============================] - 28s 15ms/step - loss: 0.0196 - accuracy: 0.9940\n",
      "Epoch 9/20\n",
      "1875/1875 [==============================] - 29s 16ms/step - loss: 0.0207 - accuracy: 0.9934\n",
      "Epoch 10/20\n",
      "1875/1875 [==============================] - 30s 16ms/step - loss: 0.0162 - accuracy: 0.9949\n",
      "Epoch 11/20\n",
      "1875/1875 [==============================] - 29s 15ms/step - loss: 0.0161 - accuracy: 0.9947\n",
      "Epoch 12/20\n",
      "1875/1875 [==============================] - 26s 14ms/step - loss: 0.0132 - accuracy: 0.9959\n",
      "Epoch 13/20\n",
      "1875/1875 [==============================] - 26s 14ms/step - loss: 0.0137 - accuracy: 0.9958\n",
      "Epoch 14/20\n",
      "1875/1875 [==============================] - 26s 14ms/step - loss: 0.0138 - accuracy: 0.9960\n",
      "Epoch 15/20\n",
      "1875/1875 [==============================] - 26s 14ms/step - loss: 0.0113 - accuracy: 0.9967\n",
      "Epoch 16/20\n",
      "1875/1875 [==============================] - 26s 14ms/step - loss: 0.0127 - accuracy: 0.9965\n",
      "Epoch 17/20\n",
      "1875/1875 [==============================] - 27s 14ms/step - loss: 0.0100 - accuracy: 0.9974\n",
      "Epoch 18/20\n",
      "1875/1875 [==============================] - 28s 15ms/step - loss: 0.0126 - accuracy: 0.9966\n",
      "Epoch 19/20\n",
      "1875/1875 [==============================] - 30s 16ms/step - loss: 0.0088 - accuracy: 0.9975\n",
      "Epoch 20/20\n",
      "1875/1875 [==============================] - 29s 16ms/step - loss: 0.0121 - accuracy: 0.9967\n",
      "313/313 [==============================] - 1s 3ms/step - loss: 0.1427 - accuracy: 0.9796\n"
     ]
    },
    {
     "data": {
      "text/plain": [
       "[0.14265216886997223, 0.9796000123023987]"
      ]
     },
     "execution_count": 6,
     "metadata": {},
     "output_type": "execute_result"
    }
   ],
   "source": [
    "model1 = Sequential()\n",
    "#First Hidden Layer\n",
    "model1.add(Dense(1500, activation='relu', input_dim=input_shape))#Second  Hidden Layer\n",
    "model1.add(Dense(100, activation='relu'))\n",
    "model1.add(Dense(10, activation='softmax'))\n",
    "\n",
    "#Compiling the neural network\n",
    "model1.compile(optimizer ='adam',loss='sparse_categorical_crossentropy', metrics =['accuracy'])\n",
    "\n",
    "#Fitting the data to the training dataset\n",
    "model1.fit(x_train,y_train, batch_size=32, epochs=20)\n",
    "\n",
    "\n",
    "model1.evaluate(x_test, y_test)"
   ]
  },
  {
   "cell_type": "code",
   "execution_count": 7,
   "metadata": {
    "colab": {
     "base_uri": "https://localhost:8080/",
     "height": 282
    },
    "id": "DzibxPKlRPGQ",
    "outputId": "e633850c-3a36-40be-9b49-ea45b498b2ab"
   },
   "outputs": [
    {
     "name": "stdout",
     "output_type": "stream",
     "text": [
      "1/1 [==============================] - 0s 111ms/step\n",
      "9\n"
     ]
    },
    {
     "data": {
      "image/png": "[encoded data removed]",
      "text/plain": [
       "<Figure size 640x480 with 1 Axes>"
      ]
     },
     "metadata": {},
     "output_type": "display_data"
    }
   ],
   "source": [
    "image_index = 4444\n",
    "plt.imshow(x_test[image_index].reshape(28, 28),cmap='Greys')\n",
    "pred = model1.predict(x_test[image_index].reshape(1, 784, 1))\n",
    "print(pred.argmax())"
   ]
  },
  {
   "cell_type": "code",
   "execution_count": 8,
   "metadata": {
    "colab": {
     "base_uri": "https://localhost:8080/"
    },
    "id": "llFcikFxQk_M",
    "outputId": "a611ef57-a15d-4eb2-e139-3130a7e57ed0"
   },
   "outputs": [
    {
     "name": "stdout",
     "output_type": "stream",
     "text": [
      "Epoch 1/20\n",
      "1875/1875 [==============================] - 46s 24ms/step - loss: 0.1929 - accuracy: 0.9411\n",
      "Epoch 2/20\n",
      "1875/1875 [==============================] - 43s 23ms/step - loss: 0.0906 - accuracy: 0.9727\n",
      "Epoch 3/20\n",
      "1875/1875 [==============================] - 44s 23ms/step - loss: 0.0632 - accuracy: 0.9803\n",
      "Epoch 4/20\n",
      "1875/1875 [==============================] - 45s 24ms/step - loss: 0.0486 - accuracy: 0.9849\n",
      "Epoch 5/20\n",
      "1875/1875 [==============================] - 46s 24ms/step - loss: 0.0414 - accuracy: 0.9873\n",
      "Epoch 6/20\n",
      "1875/1875 [==============================] - 45s 24ms/step - loss: 0.0338 - accuracy: 0.9897\n",
      "Epoch 7/20\n",
      "1875/1875 [==============================] - 45s 24ms/step - loss: 0.0287 - accuracy: 0.9912\n",
      "Epoch 8/20\n",
      "1875/1875 [==============================] - 45s 24ms/step - loss: 0.0278 - accuracy: 0.9921\n",
      "Epoch 9/20\n",
      "1875/1875 [==============================] - 45s 24ms/step - loss: 0.0254 - accuracy: 0.9928\n",
      "Epoch 10/20\n",
      "1875/1875 [==============================] - 46s 25ms/step - loss: 0.0210 - accuracy: 0.9937\n",
      "Epoch 11/20\n",
      "1875/1875 [==============================] - 50s 27ms/step - loss: 0.0208 - accuracy: 0.9942\n",
      "Epoch 12/20\n",
      "1875/1875 [==============================] - 48s 26ms/step - loss: 0.0174 - accuracy: 0.9948\n",
      "Epoch 13/20\n",
      "1875/1875 [==============================] - 45s 24ms/step - loss: 0.0181 - accuracy: 0.9951\n",
      "Epoch 14/20\n",
      "1875/1875 [==============================] - 44s 24ms/step - loss: 0.0178 - accuracy: 0.9952\n",
      "Epoch 15/20\n",
      "1875/1875 [==============================] - 45s 24ms/step - loss: 0.0156 - accuracy: 0.9957\n",
      "Epoch 16/20\n",
      "1875/1875 [==============================] - 46s 25ms/step - loss: 0.0138 - accuracy: 0.9959\n",
      "Epoch 17/20\n",
      "1875/1875 [==============================] - 45s 24ms/step - loss: 0.0162 - accuracy: 0.9960\n",
      "Epoch 18/20\n",
      "1875/1875 [==============================] - 46s 24ms/step - loss: 0.0157 - accuracy: 0.9960\n",
      "Epoch 19/20\n",
      "1875/1875 [==============================] - 44s 24ms/step - loss: 0.0138 - accuracy: 0.9969\n",
      "Epoch 20/20\n",
      "1875/1875 [==============================] - 44s 24ms/step - loss: 0.0118 - accuracy: 0.9970\n",
      "313/313 [==============================] - 3s 8ms/step - loss: 0.1280 - accuracy: 0.9845\n"
     ]
    },
    {
     "data": {
      "text/plain": [
       "[0.12803088128566742, 0.984499990940094]"
      ]
     },
     "execution_count": 8,
     "metadata": {},
     "output_type": "execute_result"
    }
   ],
   "source": [
    "model2 = Sequential()\n",
    "#First Hidden Layer\n",
    "model2.add(Dense(1500, activation='relu', input_dim=input_shape))#Second  Hidden Layer\n",
    "model2.add(Dense(750, activation='relu'))#Output Layer\n",
    "model2.add(Dense(100, activation='relu'))\n",
    "model2.add(Dense(10, activation='softmax'))\n",
    "\n",
    "#Compiling the neural network\n",
    "model2.compile(optimizer ='adam',loss='sparse_categorical_crossentropy', metrics =['accuracy'])\n",
    "\n",
    "#Fitting the data to the training dataset\n",
    "model2.fit(x_train,y_train, batch_size=32, epochs=20)\n",
    "\n",
    "\n",
    "model2.evaluate(x_test, y_test)"
   ]
  },
  {
   "cell_type": "code",
   "execution_count": 9,
   "metadata": {
    "colab": {
     "base_uri": "https://localhost:8080/"
    },
    "id": "lcgiGR4hRMw6",
    "outputId": "985b1205-cf94-4dfc-ef58-14ed1d153d5b"
   },
   "outputs": [
    {
     "name": "stdout",
     "output_type": "stream",
     "text": [
      "Epoch 1/20\n",
      "1875/1875 [==============================] - 66s 33ms/step - loss: 0.2664 - accuracy: 0.9193\n",
      "Epoch 2/20\n",
      "1875/1875 [==============================] - 48s 26ms/step - loss: 0.1533 - accuracy: 0.9526\n",
      "Epoch 3/20\n",
      "1875/1875 [==============================] - 47s 25ms/step - loss: 0.1250 - accuracy: 0.9622\n",
      "Epoch 4/20\n",
      "1875/1875 [==============================] - 51s 27ms/step - loss: 0.1096 - accuracy: 0.9668\n",
      "Epoch 5/20\n",
      "1875/1875 [==============================] - 46s 24ms/step - loss: 0.0923 - accuracy: 0.9710\n",
      "Epoch 6/20\n",
      "1875/1875 [==============================] - 46s 25ms/step - loss: 0.0821 - accuracy: 0.9746\n",
      "Epoch 7/20\n",
      "1875/1875 [==============================] - 45s 24ms/step - loss: 0.0735 - accuracy: 0.9772\n",
      "Epoch 8/20\n",
      "1875/1875 [==============================] - 45s 24ms/step - loss: 0.0692 - accuracy: 0.9784\n",
      "Epoch 9/20\n",
      "1875/1875 [==============================] - 46s 24ms/step - loss: 0.0604 - accuracy: 0.9808\n",
      "Epoch 10/20\n",
      "1875/1875 [==============================] - 45s 24ms/step - loss: 0.0570 - accuracy: 0.9822\n",
      "Epoch 11/20\n",
      "1875/1875 [==============================] - 46s 25ms/step - loss: 0.0537 - accuracy: 0.9826\n",
      "Epoch 12/20\n",
      "1875/1875 [==============================] - 46s 25ms/step - loss: 0.0522 - accuracy: 0.9831\n",
      "Epoch 13/20\n",
      "1875/1875 [==============================] - 46s 24ms/step - loss: 0.0485 - accuracy: 0.9843\n",
      "Epoch 14/20\n",
      "1875/1875 [==============================] - 45s 24ms/step - loss: 0.0458 - accuracy: 0.9855\n",
      "Epoch 15/20\n",
      "1875/1875 [==============================] - 45s 24ms/step - loss: 0.0424 - accuracy: 0.9863\n",
      "Epoch 16/20\n",
      "1875/1875 [==============================] - 46s 24ms/step - loss: 0.0448 - accuracy: 0.9853\n",
      "Epoch 17/20\n",
      "1875/1875 [==============================] - 46s 24ms/step - loss: 0.0382 - accuracy: 0.9873\n",
      "Epoch 18/20\n",
      "1875/1875 [==============================] - 45s 24ms/step - loss: 0.0380 - accuracy: 0.9875\n",
      "Epoch 19/20\n",
      "1875/1875 [==============================] - 45s 24ms/step - loss: 0.0403 - accuracy: 0.9869\n",
      "Epoch 20/20\n",
      "1875/1875 [==============================] - 45s 24ms/step - loss: 0.0341 - accuracy: 0.9887\n",
      "313/313 [==============================] - 2s 6ms/step - loss: 0.0511 - accuracy: 0.9855\n"
     ]
    },
    {
     "data": {
      "text/plain": [
       "[0.05110817030072212, 0.9854999780654907]"
      ]
     },
     "execution_count": 9,
     "metadata": {},
     "output_type": "execute_result"
    }
   ],
   "source": [
    "from tensorflow.keras.layers import Dropout\n",
    "from keras.layers import BatchNormalization\n",
    "model3 = Sequential()\n",
    "#First Hidden Layer\n",
    "model3.add(Dense(1500, activation='relu', input_dim=input_shape))#Second  Hidden Layer\n",
    "model3.add(Dropout(0.2))\n",
    "model3.add(BatchNormalization())\n",
    "\n",
    "model3.add(Dense(750, activation='relu'))\n",
    "model3.add(Dropout(0.2))\n",
    "model3.add(BatchNormalization())\n",
    "\n",
    "model3.add(Dense(100, activation='relu'))\n",
    "model3.add(Dropout(0.2))\n",
    "model3.add(BatchNormalization())\n",
    "\n",
    "model3.add(Dense(10, activation='softmax'))\n",
    "\n",
    "#Compiling the neural network\n",
    "model3.compile(optimizer ='adam',loss='sparse_categorical_crossentropy', metrics =['accuracy'])\n",
    "\n",
    "#Fitting the data to the training dataset\n",
    "model3.fit(x_train,y_train, batch_size=32, epochs=20)\n",
    "\n",
    "\n",
    "model3.evaluate(x_test, y_test)"
   ]
  },
  {
   "cell_type": "code",
   "execution_count": 10,
   "metadata": {
    "id": "9H_e0oe3RlpF"
   },
   "outputs": [
    {
     "name": "stdout",
     "output_type": "stream",
     "text": [
      "1/1 [==============================] - 0s 16ms/step\n",
      "1\n"
     ]
    },
    {
     "data": {
      "image/png": "[encoded data removed]",
      "text/plain": [
       "<Figure size 640x480 with 1 Axes>"
      ]
     },
     "metadata": {},
     "output_type": "display_data"
    }
   ],
   "source": [
    "image_index = 6726\n",
    "plt.imshow(x_test[image_index].reshape(28, 28),cmap='Greys')\n",
    "pred = model1.predict(x_test[image_index].reshape(1, 784, 1))\n",
    "print(pred.argmax())"
   ]
  }
 ],
 "metadata": {
  "colab": {
   "provenance": []
  },
  "kernelspec": {
   "display_name": "Python 3 (ipykernel)",
   "language": "python",
   "name": "python3"
  },
  "language_info": {
   "codemirror_mode": {
    "name": "ipython",
    "version": 3
   },
   "file_extension": ".py",
   "mimetype": "text/x-python",
   "name": "python",
   "nbconvert_exporter": "python",
   "pygments_lexer": "ipython3",
   "version": "3.11.5"
  }
 },
 "nbformat": 4,
 "nbformat_minor": 1
}
