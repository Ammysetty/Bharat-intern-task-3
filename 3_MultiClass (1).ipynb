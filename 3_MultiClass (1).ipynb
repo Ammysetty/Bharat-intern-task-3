{
  "nbformat": 4,
  "nbformat_minor": 0,
  "metadata": {
    "colab": {
      "provenance": []
    },
    "kernelspec": {
      "name": "python3",
      "display_name": "Python 3"
    },
    "language_info": {
      "name": "python"
    }
  },
  "cells": [
    {
      "cell_type": "markdown",
      "source": [
        "#Exercise 3:Fully Connected Deep Neural Network model\n",
        "*\tImplement a multi-class classification neural network with number of layers of your choice\n",
        "*\tVary optimization methods\n",
        "*\tChoose suitable Loss functions\n",
        "*\tAdd drop out layers\n",
        "* Add batch normalization layers\n"
      ],
      "metadata": {
        "id": "2HuChRv86CVn"
      }
    },
    {
      "cell_type": "code",
      "execution_count": 1,
      "metadata": {
        "id": "dsBYdptqM9DP",
        "colab": {
          "base_uri": "https://localhost:8080/"
        },
        "outputId": "6245ae67-df31-40a8-e0ea-57a4dc5c9dc8"
      },
      "outputs": [
        {
          "output_type": "stream",
          "name": "stdout",
          "text": [
            "Downloading data from https://storage.googleapis.com/tensorflow/tf-keras-datasets/mnist.npz\n",
            "11490434/11490434 [==============================] - 0s 0us/step\n"
          ]
        }
      ],
      "source": [
        "#Downloading the MNIST Dataset\n",
        "import tensorflow as tf\n",
        "(x_train, y_train), (x_test, y_test) = tf.keras.datasets.mnist.load_data()"
      ]
    },
    {
      "cell_type": "code",
      "source": [
        "import matplotlib.pyplot as plt\n",
        "import random\n",
        "image_index =random .randint(0,60000)  # You may select anything up to 60,000\n",
        "print(y_train[image_index]) # The label is 8\n",
        "plt.imshow(x_train[image_index], cmap='Greys')"
      ],
      "metadata": {
        "colab": {
          "base_uri": "https://localhost:8080/",
          "height": 465
        },
        "id": "ElmEAZJ5QLAP",
        "outputId": "71e566da-f028-47df-cf17-8f421ada28c4"
      },
      "execution_count": 2,
      "outputs": [
        {
          "output_type": "stream",
          "name": "stdout",
          "text": [
            "8\n"
          ]
        },
        {
          "output_type": "execute_result",
          "data": {
            "text/plain": [
              "<matplotlib.image.AxesImage at 0x7eabeb2d7ca0>"
            ]
          },
          "metadata": {},
          "execution_count": 2
        },
        {
          "output_type": "display_data",
          "data": {
            "text/plain": [
              "<Figure size 640x480 with 1 Axes>"
            ],
            "image/png": "[encoded data removed]"
          },
          "metadata": {}
        }
      ]
    },
    {
      "cell_type": "code",
      "source": [
        "x_train.shape"
      ],
      "metadata": {
        "colab": {
          "base_uri": "https://localhost:8080/"
        },
        "id": "aZItbA3FQNGW",
        "outputId": "48abab12-816f-4f95-979a-b7ff67015101"
      },
      "execution_count": 3,
      "outputs": [
        {
          "output_type": "execute_result",
          "data": {
            "text/plain": [
              "(60000, 28, 28)"
            ]
          },
          "metadata": {},
          "execution_count": 3
        }
      ]
    },
    {
      "cell_type": "code",
      "source": [
        "# Reshaping the array to 4-dims so that it can work with the Keras API\n",
        "x_train = x_train.reshape(x_train.shape[0], 28*28)\n",
        "x_test = x_test.reshape(x_test.shape[0], 28*28)\n",
        "input_shape = 28*28\n",
        "# Making sure that the values are float so that we can get decimal points after division\n",
        "x_train = x_train.astype('float32')\n",
        "x_test = x_test.astype('float32')\n",
        "# Normalizing the RGB codes by dividing it to the max RGB value.\n",
        "x_train /= 255\n",
        "x_test /= 255\n",
        "print('x_train shape:', x_train.shape)\n",
        "print('Number of images in x_train', x_train.shape[0])\n",
        "print('Number of images in x_test', x_test.shape[0])"
      ],
      "metadata": {
        "colab": {
          "base_uri": "https://localhost:8080/"
        },
        "id": "4Tn7qHzJQO39",
        "outputId": "f3047dc5-8168-49b0-ce15-c62b94c641a8"
      },
      "execution_count": 4,
      "outputs": [
        {
          "output_type": "stream",
          "name": "stdout",
          "text": [
            "x_train shape: (60000, 784)\n",
            "Number of images in x_train 60000\n",
            "Number of images in x_test 10000\n"
          ]
        }
      ]
    },
    {
      "cell_type": "code",
      "source": [
        "from keras import Sequential\n",
        "from keras.layers import Dense"
      ],
      "metadata": {
        "id": "sHpffiPlD4EC"
      },
      "execution_count": 5,
      "outputs": []
    },
    {
      "cell_type": "markdown",
      "source": [
        "#Model 1 with 2 hidden layers\n",
        "\n",
        "\n"
      ],
      "metadata": {
        "id": "cPDByj-j9qf7"
      }
    },
    {
      "cell_type": "code",
      "source": [
        "model1 = Sequential()\n",
        "#First Hidden Layer\n",
        "model1.add(Dense(1500, activation='relu', input_dim=input_shape))#Second  Hidden Layer\n",
        "model1.add(Dense(100, activation='relu'))\n",
        "model1.add(Dense(10, activation='softmax'))\n",
        "\n",
        "#Compiling the neural network\n",
        "model1.compile(optimizer ='SGD',loss='sparse_categorical_crossentropy', metrics =['accuracy'])\n",
        "\n",
        "#Fitting the data to the training dataset\n",
        "model1.fit(x_train,y_train, batch_size=32, epochs=2)\n",
        "\n",
        "\n",
        "model1.evaluate(x_test, y_test)"
      ],
      "metadata": {
        "id": "y5vui5O7D6Cp",
        "colab": {
          "base_uri": "https://localhost:8080/"
        },
        "outputId": "3773c823-718b-4900-fa94-c994400797c6"
      },
      "execution_count": 6,
      "outputs": [
        {
          "output_type": "stream",
          "name": "stdout",
          "text": [
            "Epoch 1/2\n",
            "1875/1875 [==============================] - 37s 18ms/step - loss: 0.5133 - accuracy: 0.8723\n",
            "Epoch 2/2\n",
            "1875/1875 [==============================] - 20s 11ms/step - loss: 0.2526 - accuracy: 0.9286\n",
            "313/313 [==============================] - 2s 6ms/step - loss: 0.2142 - accuracy: 0.9383\n"
          ]
        },
        {
          "output_type": "execute_result",
          "data": {
            "text/plain": [
              "[0.21416456997394562, 0.9383000135421753]"
            ]
          },
          "metadata": {},
          "execution_count": 6
        }
      ]
    },
    {
      "cell_type": "code",
      "source": [
        "model1.summary()"
      ],
      "metadata": {
        "id": "uWT9eUiMgjnl",
        "colab": {
          "base_uri": "https://localhost:8080/"
        },
        "outputId": "e4ad8c73-2e85-4ee6-d14a-9f91bbf11da2"
      },
      "execution_count": 7,
      "outputs": [
        {
          "output_type": "stream",
          "name": "stdout",
          "text": [
            "Model: \"sequential\"\n",
            "_________________________________________________________________\n",
            " Layer (type)                Output Shape              Param #   \n",
            "=================================================================\n",
            " dense (Dense)               (None, 1500)              1177500   \n",
            "                                                                 \n",
            " dense_1 (Dense)             (None, 100)               150100    \n",
            "                                                                 \n",
            " dense_2 (Dense)             (None, 10)                1010      \n",
            "                                                                 \n",
            "=================================================================\n",
            "Total params: 1328610 (5.07 MB)\n",
            "Trainable params: 1328610 (5.07 MB)\n",
            "Non-trainable params: 0 (0.00 Byte)\n",
            "_________________________________________________________________\n"
          ]
        }
      ]
    },
    {
      "cell_type": "code",
      "source": [
        "image_index = 4444\n",
        "plt.imshow(x_test[image_index].reshape(28, 28),cmap='Greys')\n",
        "pred = model1.predict(x_test[image_index].reshape(1, 784, 1))\n",
        "print(pred.argmax())"
      ],
      "metadata": {
        "id": "DzibxPKlRPGQ",
        "colab": {
          "base_uri": "https://localhost:8080/",
          "height": 465
        },
        "outputId": "16b67659-ff9d-406e-8229-e4588c43382b"
      },
      "execution_count": 8,
      "outputs": [
        {
          "output_type": "stream",
          "name": "stdout",
          "text": [
            "1/1 [==============================] - 0s 90ms/step\n",
            "9\n"
          ]
        },
        {
          "output_type": "display_data",
          "data": {
            "text/plain": [
              "<Figure size 640x480 with 1 Axes>"
            ],
            "image/png": "[encoded data removed]"
          },
          "metadata": {}
        }
      ]
    },
    {
      "cell_type": "markdown",
      "source": [
        "#Model 2 with 3 Hidden layers"
      ],
      "metadata": {
        "id": "L-f8y9xd-H_w"
      }
    },
    {
      "cell_type": "code",
      "source": [
        "model2 = Sequential()\n",
        "#First Hidden Layer\n",
        "model2.add(Dense(1500, activation='relu', input_dim=input_shape))#Second  Hidden Layer\n",
        "model2.add(Dense(750, activation='relu'))#Output Layer\n",
        "model2.add(Dense(100, activation='relu'))\n",
        "model2.add(Dense(10, activation='softmax'))\n",
        "\n",
        "#Compiling the neural network\n",
        "model2.compile(optimizer ='SGD',loss='sparse_categorical_crossentropy', metrics =['accuracy'])\n",
        "\n",
        "#Fitting the data to the training dataset\n",
        "model2.fit(x_train,y_train, batch_size=32, epochs=2)\n",
        "\n",
        "\n",
        "model2.evaluate(x_test, y_test)"
      ],
      "metadata": {
        "id": "llFcikFxQk_M",
        "colab": {
          "base_uri": "https://localhost:8080/"
        },
        "outputId": "2bb2cee4-54d9-4d6a-f330-6f0fe69aed38"
      },
      "execution_count": 9,
      "outputs": [
        {
          "output_type": "stream",
          "name": "stdout",
          "text": [
            "Epoch 1/2\n",
            "1875/1875 [==============================] - 45s 23ms/step - loss: 0.4817 - accuracy: 0.8781\n",
            "Epoch 2/2\n",
            "1875/1875 [==============================] - 42s 22ms/step - loss: 0.2177 - accuracy: 0.9378\n",
            "313/313 [==============================] - 3s 9ms/step - loss: 0.1802 - accuracy: 0.9471\n"
          ]
        },
        {
          "output_type": "execute_result",
          "data": {
            "text/plain": [
              "[0.1802416443824768, 0.9470999836921692]"
            ]
          },
          "metadata": {},
          "execution_count": 9
        }
      ]
    },
    {
      "cell_type": "markdown",
      "source": [
        "#Model 3 with drop out and batch normalization layers"
      ],
      "metadata": {
        "id": "kCTpuml8-Uih"
      }
    },
    {
      "cell_type": "code",
      "source": [
        "from tensorflow.keras.layers import Dropout\n",
        "from keras.layers import BatchNormalization\n",
        "model3 = Sequential()\n",
        "#First Hidden Layer\n",
        "model3.add(Dense(1500, activation='relu', input_dim=input_shape))#Second  Hidden Layer\n",
        "model3.add(Dropout(0.2))\n",
        "model3.add(BatchNormalization())\n",
        "\n",
        "model3.add(Dense(750, activation='relu'))\n",
        "model3.add(Dropout(0.2))\n",
        "model3.add(BatchNormalization())\n",
        "\n",
        "model3.add(Dense(100, activation='relu'))\n",
        "model3.add(Dropout(0.2))\n",
        "model3.add(BatchNormalization())\n",
        "\n",
        "model3.add(Dense(10, activation='softmax'))\n",
        "\n",
        "#Compiling the neural network\n",
        "model3.compile(optimizer ='adam',loss='sparse_categorical_crossentropy', metrics =['accuracy'])\n",
        "\n",
        "#Fitting the data to the training dataset\n",
        "model3.fit(x_train,y_train, batch_size=32, epochs=2)\n",
        "\n",
        "\n",
        "model3.evaluate(x_test, y_test)"
      ],
      "metadata": {
        "colab": {
          "base_uri": "https://localhost:8080/"
        },
        "id": "lcgiGR4hRMw6",
        "outputId": "70c740e2-9817-46d9-9571-422e3048fd1a"
      },
      "execution_count": null,
      "outputs": [
        {
          "output_type": "stream",
          "name": "stdout",
          "text": [
            "Epoch 1/2\n",
            " 651/1875 [=========>....................] - ETA: 47s - loss: 0.3530 - accuracy: 0.8938"
          ]
        }
      ]
    }
  ]
}